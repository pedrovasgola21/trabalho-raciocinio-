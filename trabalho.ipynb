{
 "cells": [
  {
   "cell_type": "code",
   "execution_count": 1,
   "id": "5763c9df-3a5e-43fc-954e-69cb445c4cad",
   "metadata": {},
   "outputs": [
    {
     "name": "stdout",
     "output_type": "stream",
     "text": [
      "Defaulting to user installation because normal site-packages is not writeable\n",
      "Requirement already satisfied: pandas in c:\\programdata\\anaconda3\\lib\\site-packages (1.4.4)\n",
      "Requirement already satisfied: python-dateutil>=2.8.1 in c:\\programdata\\anaconda3\\lib\\site-packages (from pandas) (2.8.2)\n",
      "Requirement already satisfied: pytz>=2020.1 in c:\\programdata\\anaconda3\\lib\\site-packages (from pandas) (2022.1)\n",
      "Requirement already satisfied: numpy>=1.18.5 in c:\\programdata\\anaconda3\\lib\\site-packages (from pandas) (1.21.5)\n",
      "Requirement already satisfied: six>=1.5 in c:\\programdata\\anaconda3\\lib\\site-packages (from python-dateutil>=2.8.1->pandas) (1.16.0)\n"
     ]
    }
   ],
   "source": [
    "!pip install pandas"
   ]
  },
  {
   "cell_type": "code",
   "execution_count": 29,
   "id": "e5c042ee-77c1-434b-b3ae-182eaec003da",
   "metadata": {},
   "outputs": [
    {
     "data": {
      "text/html": [
       "<div>\n",
       "<style scoped>\n",
       "    .dataframe tbody tr th:only-of-type {\n",
       "        vertical-align: middle;\n",
       "    }\n",
       "\n",
       "    .dataframe tbody tr th {\n",
       "        vertical-align: top;\n",
       "    }\n",
       "\n",
       "    .dataframe thead th {\n",
       "        text-align: right;\n",
       "    }\n",
       "</style>\n",
       "<table border=\"1\" class=\"dataframe\">\n",
       "  <thead>\n",
       "    <tr style=\"text-align: right;\">\n",
       "      <th></th>\n",
       "      <th>Ano do processo seletivo</th>\n",
       "      <th>Semestre do processo seletivo</th>\n",
       "      <th>ID do estudante</th>\n",
       "      <th>Sexo</th>\n",
       "      <th>Data de Nascimento</th>\n",
       "      <th>UF de residência</th>\n",
       "      <th>Municipio de residência</th>\n",
       "      <th>Etnia/Cor</th>\n",
       "      <th>Pessoa com deficiência?</th>\n",
       "      <th>Tipo de escola no ensino médio</th>\n",
       "      <th>...</th>\n",
       "      <th>Ano do Enem</th>\n",
       "      <th>Redação</th>\n",
       "      <th>Matemática e suas Tecnologias</th>\n",
       "      <th>Linguagens, Códigos e suas Tec</th>\n",
       "      <th>Ciências Natureza e suas Tec</th>\n",
       "      <th>Ciências Humanas e suas Tec</th>\n",
       "      <th>Situação Inscrição Fies</th>\n",
       "      <th>Percentual de financiamento</th>\n",
       "      <th>Semestre do financiamento</th>\n",
       "      <th>Qtde semestre financiado</th>\n",
       "    </tr>\n",
       "  </thead>\n",
       "  <tbody>\n",
       "    <tr>\n",
       "      <th>0</th>\n",
       "      <td>2021</td>\n",
       "      <td>2</td>\n",
       "      <td>281805657</td>\n",
       "      <td>M</td>\n",
       "      <td>15/05/00</td>\n",
       "      <td>PR</td>\n",
       "      <td>COLOMBO</td>\n",
       "      <td>PARDA</td>\n",
       "      <td>NÃO</td>\n",
       "      <td>SIM</td>\n",
       "      <td>...</td>\n",
       "      <td>2020</td>\n",
       "      <td>640</td>\n",
       "      <td>675,4</td>\n",
       "      <td>643,2</td>\n",
       "      <td>539,7</td>\n",
       "      <td>622,2</td>\n",
       "      <td>NÃO CONTRATADO</td>\n",
       "      <td>NaN</td>\n",
       "      <td></td>\n",
       "      <td>NaN</td>\n",
       "    </tr>\n",
       "    <tr>\n",
       "      <th>1</th>\n",
       "      <td>2021</td>\n",
       "      <td>2</td>\n",
       "      <td>281805657</td>\n",
       "      <td>M</td>\n",
       "      <td>15/05/00</td>\n",
       "      <td>PR</td>\n",
       "      <td>COLOMBO</td>\n",
       "      <td>PARDA</td>\n",
       "      <td>NÃO</td>\n",
       "      <td>SIM</td>\n",
       "      <td>...</td>\n",
       "      <td>2020</td>\n",
       "      <td>640</td>\n",
       "      <td>675,4</td>\n",
       "      <td>643,2</td>\n",
       "      <td>539,7</td>\n",
       "      <td>622,2</td>\n",
       "      <td>NÃO CONTRATADO</td>\n",
       "      <td>NaN</td>\n",
       "      <td></td>\n",
       "      <td>NaN</td>\n",
       "    </tr>\n",
       "    <tr>\n",
       "      <th>2</th>\n",
       "      <td>2021</td>\n",
       "      <td>2</td>\n",
       "      <td>351067941</td>\n",
       "      <td>M</td>\n",
       "      <td>10/07/94</td>\n",
       "      <td>PR</td>\n",
       "      <td>CURITIBA</td>\n",
       "      <td>BRANCA</td>\n",
       "      <td>NÃO</td>\n",
       "      <td>NÃO</td>\n",
       "      <td>...</td>\n",
       "      <td>2011</td>\n",
       "      <td>900</td>\n",
       "      <td>758,1</td>\n",
       "      <td>646,9</td>\n",
       "      <td>598,4</td>\n",
       "      <td>605,7</td>\n",
       "      <td>PARTICIPACAO CANCELADA PELO CANDIDATO</td>\n",
       "      <td>NaN</td>\n",
       "      <td></td>\n",
       "      <td>NaN</td>\n",
       "    </tr>\n",
       "    <tr>\n",
       "      <th>3</th>\n",
       "      <td>2021</td>\n",
       "      <td>2</td>\n",
       "      <td>205906170</td>\n",
       "      <td>M</td>\n",
       "      <td>25/09/89</td>\n",
       "      <td>PR</td>\n",
       "      <td>CURITIBA</td>\n",
       "      <td>BRANCA</td>\n",
       "      <td>NÃO</td>\n",
       "      <td>SIM</td>\n",
       "      <td>...</td>\n",
       "      <td>2020</td>\n",
       "      <td>540</td>\n",
       "      <td>609,8</td>\n",
       "      <td>610,7</td>\n",
       "      <td>586</td>\n",
       "      <td>646,2</td>\n",
       "      <td>OPÇÃO NÃO CONTRATADA</td>\n",
       "      <td>NaN</td>\n",
       "      <td>NaN</td>\n",
       "      <td>10.0</td>\n",
       "    </tr>\n",
       "    <tr>\n",
       "      <th>4</th>\n",
       "      <td>2021</td>\n",
       "      <td>2</td>\n",
       "      <td>351067085</td>\n",
       "      <td>F</td>\n",
       "      <td>20/07/99</td>\n",
       "      <td>PR</td>\n",
       "      <td>PARANAGUÁ</td>\n",
       "      <td>BRANCA</td>\n",
       "      <td>NÃO</td>\n",
       "      <td>SIM</td>\n",
       "      <td>...</td>\n",
       "      <td>2017</td>\n",
       "      <td>680</td>\n",
       "      <td>408,6</td>\n",
       "      <td>499,8</td>\n",
       "      <td>484,5</td>\n",
       "      <td>487,9</td>\n",
       "      <td>NÃO CONTRATADO</td>\n",
       "      <td>NaN</td>\n",
       "      <td></td>\n",
       "      <td>NaN</td>\n",
       "    </tr>\n",
       "  </tbody>\n",
       "</table>\n",
       "<p>5 rows × 57 columns</p>\n",
       "</div>"
      ],
      "text/plain": [
       "   Ano do processo seletivo  Semestre do processo seletivo  ID do estudante  \\\n",
       "0                      2021                              2        281805657   \n",
       "1                      2021                              2        281805657   \n",
       "2                      2021                              2        351067941   \n",
       "3                      2021                              2        205906170   \n",
       "4                      2021                              2        351067085   \n",
       "\n",
       "  Sexo Data de Nascimento UF de residência Municipio de residência Etnia/Cor  \\\n",
       "0    M           15/05/00               PR                 COLOMBO     PARDA   \n",
       "1    M           15/05/00               PR                 COLOMBO     PARDA   \n",
       "2    M           10/07/94               PR                CURITIBA    BRANCA   \n",
       "3    M           25/09/89               PR                CURITIBA    BRANCA   \n",
       "4    F           20/07/99               PR               PARANAGUÁ    BRANCA   \n",
       "\n",
       "  Pessoa com deficiência? Tipo de escola no ensino médio  ...  Ano do Enem  \\\n",
       "0                     NÃO                            SIM  ...         2020   \n",
       "1                     NÃO                            SIM  ...         2020   \n",
       "2                     NÃO                            NÃO  ...         2011   \n",
       "3                     NÃO                            SIM  ...         2020   \n",
       "4                     NÃO                            SIM  ...         2017   \n",
       "\n",
       "  Redação Matemática e suas Tecnologias  Linguagens, Códigos e suas Tec  \\\n",
       "0     640                         675,4                           643,2   \n",
       "1     640                         675,4                           643,2   \n",
       "2     900                         758,1                           646,9   \n",
       "3     540                         609,8                           610,7   \n",
       "4     680                         408,6                           499,8   \n",
       "\n",
       "  Ciências Natureza e suas Tec Ciências Humanas e suas Tec  \\\n",
       "0                        539,7                       622,2   \n",
       "1                        539,7                       622,2   \n",
       "2                        598,4                       605,7   \n",
       "3                          586                       646,2   \n",
       "4                        484,5                       487,9   \n",
       "\n",
       "                 Situação Inscrição Fies Percentual de financiamento  \\\n",
       "0                         NÃO CONTRATADO                         NaN   \n",
       "1                         NÃO CONTRATADO                         NaN   \n",
       "2  PARTICIPACAO CANCELADA PELO CANDIDATO                         NaN   \n",
       "3                   OPÇÃO NÃO CONTRATADA                         NaN   \n",
       "4                         NÃO CONTRATADO                         NaN   \n",
       "\n",
       "   Semestre do financiamento Qtde semestre financiado  \n",
       "0                                                 NaN  \n",
       "1                                                 NaN  \n",
       "2                                                 NaN  \n",
       "3                        NaN                     10.0  \n",
       "4                                                 NaN  \n",
       "\n",
       "[5 rows x 57 columns]"
      ]
     },
     "execution_count": 29,
     "metadata": {},
     "output_type": "execute_result"
    }
   ],
   "source": [
    "import pandas as pd\n",
    "\n",
    "arquivo = \"fies2.csv\"\n",
    "df = pd.read_csv(arquivo, sep=';', encoding='latin1', nrows=1000)\n",
    "\n",
    "df.head()\n",
    "\n",
    "    "
   ]
  },
  {
   "cell_type": "code",
   "execution_count": null,
   "id": "0be3a9f5-2db3-4f63-9b67-7f691fa1fee4",
   "metadata": {},
   "outputs": [],
   "source": [
    "#2) criar função propria"
   ]
  },
  {
   "cell_type": "code",
   "execution_count": 35,
   "id": "5b15c6f9-5984-4d68-9ead-6f8e499147c1",
   "metadata": {},
   "outputs": [
    {
     "name": "stdout",
     "output_type": "stream",
     "text": [
      "A média de Redações é: 785.18\n"
     ]
    }
   ],
   "source": [
    "def calcular_media(df, Redação):\n",
    "    media = df[Redação].mean()\n",
    "    print(\"A média de Redações é: \" + str(media))\n",
    "    \n",
    "calcular_media(df, 'Redação')"
   ]
  },
  {
   "cell_type": "code",
   "execution_count": null,
   "id": "94d37e6c-afed-4c08-8b1d-cbca3b50e38d",
   "metadata": {},
   "outputs": [],
   "source": [
    "#3) estrutura de repetição e condição"
   ]
  },
  {
   "cell_type": "code",
   "execution_count": 36,
   "id": "f3484d78-2d63-4482-b18c-d78cd9696236",
   "metadata": {},
   "outputs": [
    {
     "name": "stdout",
     "output_type": "stream",
     "text": [
      "A quantidade de notas de Redação acima de 600 foram 1731\n"
     ]
    }
   ],
   "source": [
    "valor_min = 600\n",
    "contador = 1\n",
    "\n",
    "for index, row in df.iterrows():\n",
    "    if row['Redação'] > valor_min:\n",
    "        contador += 2\n",
    "print(f\"A quantidade de notas de Redação acima de\", valor_min, \"foram\", contador)"
   ]
  },
  {
   "cell_type": "code",
   "execution_count": null,
   "id": "291ca043-5098-4f06-a674-4b8917d9690e",
   "metadata": {},
   "outputs": [],
   "source": [
    "#4 funçao especial"
   ]
  },
  {
   "cell_type": "code",
   "execution_count": 41,
   "id": "6098c25f-b664-422c-8658-b4d890bf5d72",
   "metadata": {},
   "outputs": [
    {
     "name": "stdout",
     "output_type": "stream",
     "text": [
      "A média das notas de Linguagens, Códigos e suas Tecnologias em 2021 foi: 587.13\n"
     ]
    }
   ],
   "source": [
    "from functools import reduce\n",
    "\n",
    "df['Linguagens, Códigos e suas Tec'] = pd.to_numeric(df['Linguagens, Códigos e suas Tec'], errors='coerce')\n",
    "df = df.dropna(subset=['Linguagens, Códigos e suas Tec'])\n",
    "\n",
    "media_notas = reduce(lambda x, y: x+ y, df['Linguagens, Códigos e suas Tec']) / len(df['Linguagens, Códigos e suas Tec'])\n",
    "print(\"A média das notas de Linguagens, Códigos e suas Tecnologias em 2021 foi:\", round(media_notas, 2))\n"
   ]
  },
  {
   "cell_type": "code",
   "execution_count": null,
   "id": "13e21fab-445d-4648-bc9e-d1e107ad5ab7",
   "metadata": {},
   "outputs": [],
   "source": [
    "#5 resumo estatistica"
   ]
  },
  {
   "cell_type": "code",
   "execution_count": 1,
   "id": "e6e79b2b-3934-4ddf-9273-dfa25788dddb",
   "metadata": {},
   "outputs": [
    {
     "name": "stdout",
     "output_type": "stream",
     "text": [
      "A soma das notas de Matemática e suas Tecnologias é: 647226.4999999993\n",
      "A média das notas de Matemática e suas Tecnologias é: 647.2264999999993\n",
      "A mediana das notas de Matemática e suas Tecnologias é: 652.05\n"
     ]
    }
   ],
   "source": [
    "import pandas as pd\n",
    "import statistics\n",
    "\n",
    "arquivo = 'fies2.csv'\n",
    "df = pd.read_csv(arquivo, sep=';', encoding='latin1', nrows=1000)\n",
    "\n",
    "def nota_maior_igual_sete(row):\n",
    "    nota = float(row['Matemática e suas Tecnologias'].replace(',', '.')) if isinstance(row['Matemática e suas Tecnologias'], str) else None\n",
    "    return nota is not None and nota >= 7\n",
    "\n",
    "df_filtrado = list(filter(nota_maior_igual_sete, df.to_dict('records')))\n",
    "\n",
    "notas = [float(row['Matemática e suas Tecnologias'].replace(',', '.')) for row in df_filtrado]\n",
    "\n",
    "soma_notas = sum(notas)\n",
    "media_notas = soma_notas / len(notas)\n",
    "mediana_notas = statistics.median(notas)\n",
    "\n",
    "print(\"A soma das notas de Matemática e suas Tecnologias é:\", soma_notas)\n",
    "print(\"A média das notas de Matemática e suas Tecnologias é:\", media_notas)\n",
    "print(\"A mediana das notas de Matemática e suas Tecnologias é:\", mediana_notas)"
   ]
  },
  {
   "cell_type": "code",
   "execution_count": null,
   "id": "571d16bd-64aa-4f59-be94-97c063d344e6",
   "metadata": {},
   "outputs": [],
   "source": []
  }
 ],
 "metadata": {
  "kernelspec": {
   "display_name": "Python 3 (ipykernel)",
   "language": "python",
   "name": "python3"
  },
  "language_info": {
   "codemirror_mode": {
    "name": "ipython",
    "version": 3
   },
   "file_extension": ".py",
   "mimetype": "text/x-python",
   "name": "python",
   "nbconvert_exporter": "python",
   "pygments_lexer": "ipython3",
   "version": "3.9.13"
  }
 },
 "nbformat": 4,
 "nbformat_minor": 5
}
